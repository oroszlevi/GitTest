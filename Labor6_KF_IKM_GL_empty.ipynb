{
  "nbformat": 4,
  "nbformat_minor": 0,
  "metadata": {
    "colab": {
      "name": "Labor6_KF/IKM/GL_empty.ipynb",
      "provenance": [],
      "collapsed_sections": [],
      "toc_visible": true,
      "include_colab_link": true
    },
    "kernelspec": {
      "name": "python3",
      "display_name": "Python 3"
    },
    "accelerator": "GPU"
  },
  "cells": [
    {
      "cell_type": "markdown",
      "metadata": {
        "id": "view-in-github",
        "colab_type": "text"
      },
      "source": [
        "<a href=\"https://colab.research.google.com/github/oroszlevi/GitTest/blob/master/Labor6_KF_IKM_GL_empty.ipynb\" target=\"_parent\"><img src=\"https://colab.research.google.com/assets/colab-badge.svg\" alt=\"Open In Colab\"/></a>"
      ]
    },
    {
      "cell_type": "markdown",
      "metadata": {
        "id": "etxxqNjBvbYl"
      },
      "source": [
        "# Neurális hálók\n",
        "\n",
        "A mostani gyakorlat/labor témája egyszerű neurális hálók tanítása lesz a PyTorch függvénykönyvtár segítségével.\n",
        "\n",
        "## GPU és CUDA ellenőrzése\n",
        "\n",
        "A !nvcc --version parancs segítségével ellenőrizhető a CUDA verziója"
      ]
    },
    {
      "cell_type": "code",
      "metadata": {
        "id": "76--MCcVvY6b",
        "colab": {
          "base_uri": "https://localhost:8080/"
        },
        "outputId": "95a3f696-548e-4aa8-a73a-23b83da8b0c4"
      },
      "source": [
        "!nvcc --version"
      ],
      "execution_count": null,
      "outputs": [
        {
          "output_type": "stream",
          "text": [
            "nvcc: NVIDIA (R) Cuda compiler driver\n",
            "Copyright (c) 2005-2020 NVIDIA Corporation\n",
            "Built on Wed_Jul_22_19:09:09_PDT_2020\n",
            "Cuda compilation tools, release 11.0, V11.0.221\n",
            "Build cuda_11.0_bu.TC445_37.28845127_0\n"
          ],
          "name": "stdout"
        }
      ]
    },
    {
      "cell_type": "markdown",
      "metadata": {
        "id": "668tQrDqAoyU"
      },
      "source": [
        "## Fontos könyvtárak installálása\n",
        "\n",
        "Torch, torchvision"
      ]
    },
    {
      "cell_type": "code",
      "metadata": {
        "id": "5pQucnmFAxOK",
        "colab": {
          "base_uri": "https://localhost:8080/"
        },
        "outputId": "8d7b3a9b-55ca-42c0-9ef9-9a1b0e93b22f"
      },
      "source": [
        "!pip3 install torch torchvision"
      ],
      "execution_count": null,
      "outputs": [
        {
          "output_type": "stream",
          "text": [
            "Requirement already satisfied: torch in /usr/local/lib/python3.7/dist-packages (1.8.1+cu101)\n",
            "Requirement already satisfied: torchvision in /usr/local/lib/python3.7/dist-packages (0.9.1+cu101)\n",
            "Requirement already satisfied: numpy in /usr/local/lib/python3.7/dist-packages (from torch) (1.19.5)\n",
            "Requirement already satisfied: typing-extensions in /usr/local/lib/python3.7/dist-packages (from torch) (3.7.4.3)\n",
            "Requirement already satisfied: pillow>=4.1.1 in /usr/local/lib/python3.7/dist-packages (from torchvision) (7.1.2)\n"
          ],
          "name": "stdout"
        }
      ]
    },
    {
      "cell_type": "markdown",
      "metadata": {
        "id": "obfmfJQvA5h4"
      },
      "source": [
        "## PyTorch és CUDA ellenőrzése"
      ]
    },
    {
      "cell_type": "code",
      "metadata": {
        "id": "FKndwOLlA9yu",
        "colab": {
          "base_uri": "https://localhost:8080/"
        },
        "outputId": "5ef474f3-4727-433a-b70d-37626c92f624"
      },
      "source": [
        "import torch\n",
        "haveCuda = torch.cuda.is_available()\n",
        "print(haveCuda)"
      ],
      "execution_count": null,
      "outputs": [
        {
          "output_type": "stream",
          "text": [
            "True\n"
          ],
          "name": "stdout"
        }
      ]
    },
    {
      "cell_type": "markdown",
      "metadata": {
        "id": "U-jk8PrDFhDL"
      },
      "source": [
        "## Segédfüggvény, hogy legyen progress bar"
      ]
    },
    {
      "cell_type": "code",
      "metadata": {
        "id": "YyloyglTFhRu"
      },
      "source": [
        "from IPython.display import HTML, display\n",
        "\n",
        "def progress(value, max=100):\n",
        "    return HTML(\"\"\"\n",
        "        <progress\n",
        "            value='{value}'\n",
        "            max='{max}',\n",
        "            style='width: 100%'\n",
        "        >\n",
        "            {value}\n",
        "        </progress>\n",
        "    \"\"\".format(value=value, max=max))"
      ],
      "execution_count": null,
      "outputs": []
    },
    {
      "cell_type": "markdown",
      "metadata": {
        "id": "m1-kZ27PBWBu"
      },
      "source": [
        "## Számítási gráf numpy segítségével\n",
        "\n"
      ]
    },
    {
      "cell_type": "code",
      "metadata": {
        "id": "nAtQ25k2Bdpq",
        "colab": {
          "base_uri": "https://localhost:8080/"
        },
        "outputId": "3e8adf12-c407-41b4-87b9-2134d092474f"
      },
      "source": [
        "import numpy as np\n",
        "\n",
        "np.random.seed(42)\n",
        "\n",
        "a = np.random.randn(2)\n",
        "b = np.random.randn(2)\n",
        "c = np.random.randn(2)\n",
        "\n",
        "d = 2*a+0.5*b\n",
        "e = np.sum(c*d)\n",
        "\n",
        "print(e)\n",
        "\n",
        "grad_e = np.ones(2) #c*d gradiense\n",
        "grad_c=grad_e*d\n",
        "grad_d=grad_e*c\n",
        "grad_a=grad_d*2\n",
        "grad_b=grad_d*0.5\n",
        "\n",
        "print(grad_a, grad_b, grad_c)"
      ],
      "execution_count": null,
      "outputs": [
        {
          "output_type": "stream",
          "text": [
            "-0.42199704138300664\n",
            "[-0.46830675 -0.46827391] [-0.11707669 -0.11706848] [1.31727258 0.48498633]\n"
          ],
          "name": "stdout"
        }
      ]
    },
    {
      "cell_type": "markdown",
      "metadata": {
        "id": "tyeHyMEmCkdT"
      },
      "source": [
        "## Számítási gráf PyTorch segítségével"
      ]
    },
    {
      "cell_type": "code",
      "metadata": {
        "id": "aOVSPMjrCnrS",
        "colab": {
          "base_uri": "https://localhost:8080/"
        },
        "outputId": "761b1b1f-665d-4e6d-ad58-0cc665f351c4"
      },
      "source": [
        "import torch\n",
        "\n",
        "np.random.seed(42)\n",
        "\n",
        "a = torch.Tensor(np.random.randn(2)).requires_grad_(True)\n",
        "b = torch.Tensor(np.random.randn(2)).requires_grad_(True)\n",
        "c = torch.Tensor(np.random.randn(2)).requires_grad_(True)\n",
        "\n",
        "d = 2*a+0.5*b\n",
        "e=(c*d).sum()\n",
        "\n",
        "print(e.item())\n",
        "e.backward()\n",
        "print(a.grad, b.grad, c.grad)"
      ],
      "execution_count": null,
      "outputs": [
        {
          "output_type": "stream",
          "text": [
            "-0.4219970405101776\n",
            "tensor([-0.4683, -0.4683]) tensor([-0.1171, -0.1171]) tensor([1.3173, 0.4850])\n"
          ],
          "name": "stdout"
        }
      ]
    },
    {
      "cell_type": "markdown",
      "metadata": {
        "id": "icBWI28vEMnG"
      },
      "source": [
        "## Lineáris modell definiálása"
      ]
    },
    {
      "cell_type": "code",
      "metadata": {
        "id": "ezLFvS5-EaG7",
        "colab": {
          "base_uri": "https://localhost:8080/"
        },
        "outputId": "b9bab4b3-e529-4349-9629-9e8bb6345af2"
      },
      "source": [
        "from torch import nn\n",
        "\n",
        "class Linear(nn.Module):\n",
        "  def __init__(self, Nin, Nout):\n",
        "      super().__init__()\n",
        "      self.W = nn.Parameter(torch.randn(Nout, Nin))\n",
        "      self.Nout = Nout\n",
        "\n",
        "  def forward (self, x):\n",
        "      return torch.addmv(torch.zeros(self.Nout), self.W, x) #y +=W*x\n",
        "\n",
        "myNeuron = Linear(128,2)\n",
        "myInput = torch.randn(128)\n",
        "y = myNeuron(myInput)\n",
        "print(y)"
      ],
      "execution_count": null,
      "outputs": [
        {
          "output_type": "stream",
          "text": [
            "tensor([ 16.5828, -20.2288], grad_fn=<AddmvBackward>)\n"
          ],
          "name": "stdout"
        }
      ]
    },
    {
      "cell_type": "markdown",
      "metadata": {
        "id": "W_hjFpBRKhr0"
      },
      "source": [
        "## Lineáris modell tanítása"
      ]
    },
    {
      "cell_type": "code",
      "metadata": {
        "id": "uH2JbTDcKkvd",
        "colab": {
          "base_uri": "https://localhost:8080/",
          "height": 298
        },
        "outputId": "013f30ae-9d6c-4e39-a9ba-d5c72a465d6f"
      },
      "source": [
        "%matplotlib inline\n",
        "import matplotlib.pyplot as plt\n",
        "\n",
        "torch.manual_seed(42)\n",
        "\n",
        "Nin = 128\n",
        "Nout = 2\n",
        "Nd = 128 # hány adatunk van\n",
        "\n",
        "myNeuron = Linear (128,2)\n",
        "trainX = torch.randn(Nd, Nin)\n",
        "trainY = torch.randn(Nd, Nout)\n",
        "\n",
        "lr = 1e-3\n",
        "losses = []\n",
        "numEpoch = 20\n",
        "\n",
        "for i in range(numEpoch):\n",
        "    running_loss = 0\n",
        "    for x,y in zip(trainX, trainY):\n",
        "\n",
        "        y_pred=myNeuron(x)\n",
        "        loss = ((y-y_pred)**2).sum()\n",
        "        loss.backward()\n",
        "\n",
        "        with torch.no_grad():\n",
        "            myNeuron.W -= lr *myNeuron.W.grad\n",
        "            myNeuron.W.grad.zero_()\n",
        "\n",
        "        running_loss += loss.item()\n",
        "    losses.append(running_loss/Nd)\n",
        "print(losses[-1])\n",
        "plt.plot(losses)"
      ],
      "execution_count": null,
      "outputs": [
        {
          "output_type": "stream",
          "text": [
            "2.2234868580053444\n"
          ],
          "name": "stdout"
        },
        {
          "output_type": "execute_result",
          "data": {
            "text/plain": [
              "[<matplotlib.lines.Line2D at 0x7f6151ad8410>]"
            ]
          },
          "metadata": {
            "tags": []
          },
          "execution_count": 13
        },
        {
          "output_type": "display_data",
          "data": {
            "image/png": "[encoded data removed]",
            "text/plain": [
              "<Figure size 432x288 with 1 Axes>"
            ]
          },
          "metadata": {
            "tags": [],
            "needs_background": "light"
          }
        }
      ]
    },
    {
      "cell_type": "markdown",
      "metadata": {
        "id": "PPFDRxTCHucl"
      },
      "source": [
        "## Beépített függvények használata"
      ]
    },
    {
      "cell_type": "code",
      "metadata": {
        "id": "EqRJR4xLHtn_",
        "colab": {
          "base_uri": "https://localhost:8080/"
        },
        "outputId": "d886dab7-daad-4b14-8333-aaeebe9ee003"
      },
      "source": [
        "class MLP(nn.Module):\n",
        "  def __init__(self, Nin, Nout, Nhid):\n",
        "      super().__init__()\n",
        "      self.L1 = nn.Linear(Nin, Nhid)\n",
        "      self.L2 = nn.Linear(Nhid, Nout)\n",
        "\n",
        "  def forward (self, x):\n",
        "      return self.L2(torch.sigmoid(self.L1(x))) \n",
        "\n",
        "Nhid = 256\n",
        "myNet = MLP(Nin, Nout, Nhid)\n",
        "y = myNet(myInput)\n",
        "print(y)"
      ],
      "execution_count": null,
      "outputs": [
        {
          "output_type": "stream",
          "text": [
            "tensor([ 0.5283, -0.2884], grad_fn=<AddBackward0>)\n"
          ],
          "name": "stdout"
        }
      ]
    },
    {
      "cell_type": "markdown",
      "metadata": {
        "id": "Td3nntqTQ_kK"
      },
      "source": [
        "## Tanítás beépített függvényekkel"
      ]
    },
    {
      "cell_type": "code",
      "metadata": {
        "id": "xOpVRTbbREb9"
      },
      "source": [
        "from torch.utils.data import TensorDataset, DataLoader\n",
        "import torch.optim as optim\n",
        "\n",
        "torch.manual_seed(42)\n",
        "\n",
        "dataset = tensorData(trainX, trainY)\n",
        "dataloader =  DataLoader(dataset, batch_size=4, shuffle=True)\n",
        "\n",
        "myNet = MLP(Nin, Nout, Nhid)\n",
        "\n",
        "optimizer = optim.SGD(myNet.parameters(), lr=1e-2, weight_decay=1e-5)\n",
        "criterion == nn.MSELoss()\n",
        "\n",
        "losses = []\n",
        "epochNum = 500\n",
        "bestLoss =10000000\n",
        "\n",
        "for i in range(epochNum):\n",
        "    running_loss = 0\n",
        "\n",
        "    for x, y in daltaloader:\n",
        "        "
      ],
      "execution_count": null,
      "outputs": []
    },
    {
      "cell_type": "markdown",
      "metadata": {
        "id": "SCqchuQyWHMl"
      },
      "source": [
        "## Tanítás CUDA segítségével"
      ]
    },
    {
      "cell_type": "code",
      "metadata": {
        "id": "T5imI0lgWNtp"
      },
      "source": [
        "from torch.utils.data import TensorDataset, DataLoader\n",
        "import torch.optim as optim\n",
        "\n",
        "torch.manual_seed(42)\n",
        "torch.backends.cudnn.deterministric = True\n",
        "torch.backends.cudnn.bechmark = False\n",
        "\n",
        "dataset = tensorData(trainX, trainY)\n",
        "dataloader =  DataLoader(dataset, batch_size=4, shuffle=True)\n",
        "\n",
        "myNet = MLP(Nin, Nout, Nhid)\n",
        "if haveCude:\n",
        "    myNet = myNet.cuda()\n",
        "\n",
        "optimizer = optim.SGD(myNet.parameters(), lr=1e-2, weight_decay=1e-5)\n",
        "criterion == nn.MSELoss()\n",
        "\n",
        "losses = []\n",
        "epochNum = 500\n",
        "bestLoss =10000000\n",
        "\n",
        "for i in range(epochNum):\n",
        "    running_loss = 0\n",
        "\n",
        "    for x, y in daltaloader:\n",
        "        "
      ],
      "execution_count": null,
      "outputs": []
    },
    {
      "cell_type": "markdown",
      "metadata": {
        "id": "0M2I4pr6ewTB"
      },
      "source": [
        "## Validáció"
      ]
    },
    {
      "cell_type": "code",
      "metadata": {
        "id": "iZOE9fKnexe6"
      },
      "source": [
        ""
      ],
      "execution_count": null,
      "outputs": []
    },
    {
      "cell_type": "markdown",
      "metadata": {
        "id": "RVlB0bPfZ_O1"
      },
      "source": [
        "## Önálló feladat: Értelmes adat tanítása\n",
        "\n",
        "Próbáld meg az y = x^2 függvényt betanítani a hálónak! Vizsgáld meg hogyan változik a tanítás a különböző paraméterek változtatásának hatására:\n",
        "\n",
        "*   Learning rate\n",
        "*   Adj hozzá véletlen zajt a kimenethez (mindkettőhöz, próbálj ki 2-3 különböző nagyságú zajt)\n",
        "*   A háló neuronszáma\n",
        "\n",
        "\n",
        "\n",
        "\n",
        "\n",
        "\n",
        "\n",
        "\n",
        "\n",
        "\n",
        "\n"
      ]
    },
    {
      "cell_type": "code",
      "metadata": {
        "id": "BtkNdA1oYm8f"
      },
      "source": [
        "Nin = 2\n",
        "Nout = 2\n",
        "  "
      ],
      "execution_count": null,
      "outputs": []
    }
  ]
}